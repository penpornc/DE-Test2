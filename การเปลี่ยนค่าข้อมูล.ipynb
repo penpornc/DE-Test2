{
 "cells": [
  {
   "cell_type": "markdown",
   "metadata": {},
   "source": [
    "# ตรวจสอบ Path file"
   ]
  },
  {
   "cell_type": "code",
   "execution_count": null,
   "metadata": {},
   "outputs": [],
   "source": [
    "getwd()"
   ]
  },
  {
   "cell_type": "markdown",
   "metadata": {},
   "source": [
    "# ดึงข้อมูล"
   ]
  },
  {
   "cell_type": "code",
   "execution_count": null,
   "metadata": {},
   "outputs": [],
   "source": [
    "Cust1<- read.csv(file=\"/home/jovyan/test/data/bank-additional.csv\", header=TRUE, sep=\";\")\n",
    "Cust1"
   ]
  },
  {
   "cell_type": "markdown",
   "metadata": {},
   "source": [
    "# มีค่าเท่ากับ newdata = Cust1 ปรับเปลี่ยนข้อมูลก่อนเข้า newdata"
   ]
  },
  {
   "cell_type": "code",
   "execution_count": null,
   "metadata": {},
   "outputs": [],
   "source": [
    "newdata = Cust1[which(Cust1['cons.price.idx']!=0 & Cust1['cons.conf.idx']!=0),]"
   ]
  },
  {
   "cell_type": "markdown",
   "metadata": {},
   "source": [
    "# นำค่าภายในมา คำนวณ แล้ว สร้าง column ใหม่ "
   ]
  },
  {
   "cell_type": "code",
   "execution_count": null,
   "metadata": {},
   "outputs": [],
   "source": [
    "newdata['con_pri_idx'] <- newdata['cons.price.idx']/newdata['cons.conf.idx']\n",
    "newdata"
   ]
  },
  {
   "cell_type": "code",
   "execution_count": null,
   "metadata": {},
   "outputs": [],
   "source": []
  }
 ],
 "metadata": {
  "kernelspec": {
   "display_name": "R",
   "language": "R",
   "name": "ir"
  },
  "language_info": {
   "codemirror_mode": "r",
   "file_extension": ".r",
   "mimetype": "text/x-r-source",
   "name": "R",
   "pygments_lexer": "r",
   "version": "3.6.3"
  }
 },
 "nbformat": 4,
 "nbformat_minor": 4
}
